{
 "cells": [
  {
   "cell_type": "code",
   "execution_count": 1,
   "id": "fb362f46",
   "metadata": {},
   "outputs": [
    {
     "name": "stdout",
     "output_type": "stream",
     "text": [
      "Collecting qrcode\n",
      "  Downloading qrcode-7.4.2-py3-none-any.whl (46 kB)\n",
      "     -------------------------------------- 46.2/46.2 kB 570.7 kB/s eta 0:00:00\n",
      "Requirement already satisfied: typing-extensions in c:\\users\\dbsom-l490-24\\anaconda\\lib\\site-packages (from qrcode) (4.3.0)\n",
      "Requirement already satisfied: colorama in c:\\users\\dbsom-l490-24\\anaconda\\lib\\site-packages (from qrcode) (0.4.5)\n",
      "Collecting pypng\n",
      "  Downloading pypng-0.20220715.0-py3-none-any.whl (58 kB)\n",
      "     ---------------------------------------- 58.1/58.1 kB 1.5 MB/s eta 0:00:00\n",
      "Installing collected packages: pypng, qrcode\n",
      "Successfully installed pypng-0.20220715.0 qrcode-7.4.2\n"
     ]
    },
    {
     "name": "stderr",
     "output_type": "stream",
     "text": [
      "\n",
      "[notice] A new release of pip available: 22.2.2 -> 23.0.1\n",
      "[notice] To update, run: python.exe -m pip install --upgrade pip\n"
     ]
    }
   ],
   "source": [
    "!pip install qrcode\n"
   ]
  },
  {
   "cell_type": "code",
   "execution_count": 7,
   "id": "634e0c8b",
   "metadata": {},
   "outputs": [
    {
     "name": "stdout",
     "output_type": "stream",
     "text": [
      "Enter the Data: google.com\n",
      "Enter the version (complexity): 10\n",
      "Enter the Box size: 2\n",
      "name it as: Google_Qr_scan\n",
      "qr code generated and saved in the gallery\n"
     ]
    }
   ],
   "source": [
    "#Encoding Data into Quick Response Code (QR Code)\n",
    "import qrcode\n",
    " \n",
    "# Data to encode\n",
    "data = input('Enter the Data: ')\n",
    " \n",
    "version=int(input('Enter the version (complexity): '))  #maxvalue  15\n",
    "box_size=int(input('Enter the Box size: '))  # max value 10\n",
    " \n",
    "# Creating an instance of QRCode class\n",
    "qr = qrcode.QRCode(version ,box_size,border = 5)\n",
    " \n",
    "# Adding data to the instance 'qr'\n",
    "qr.add_data(data)\n",
    " \n",
    "qr.make(fit = True)\n",
    "\n",
    "img = qr.make_image(fill_color = 'black',back_color = 'white')\n",
    " \n",
    "f=input(\"name it as: \")     #image name\n",
    " \n",
    "img.save(f'{f}.png')\n",
    " \n",
    "print('qr code generated and saved in the gallery')"
   ]
  }
 ],
 "metadata": {
  "kernelspec": {
   "display_name": "Python 3 (ipykernel)",
   "language": "python",
   "name": "python3"
  },
  "language_info": {
   "codemirror_mode": {
    "name": "ipython",
    "version": 3
   },
   "file_extension": ".py",
   "mimetype": "text/x-python",
   "name": "python",
   "nbconvert_exporter": "python",
   "pygments_lexer": "ipython3",
   "version": "3.9.13"
  }
 },
 "nbformat": 4,
 "nbformat_minor": 5
}
