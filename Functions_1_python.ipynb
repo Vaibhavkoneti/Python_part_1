{
 "cells": [
  {
   "cell_type": "code",
   "execution_count": 3,
   "id": "e4022b42",
   "metadata": {},
   "outputs": [
    {
     "name": "stdout",
     "output_type": "stream",
     "text": [
      "goodbye\n"
     ]
    }
   ],
   "source": [
    "\"\"\"To create functions in python we start with def word and after it the name of function comes with without parameters\n",
    "example is here\n",
    "\n",
    "def hello():\n",
    "    print(\"hello\")\n",
    "Now you create a function named goodbye without parameters which prints good bye\"\"\"\n",
    "\n",
    "def goodbye():\n",
    "    print(\"goodbye\")\n",
    "goodbye()\n",
    "    \n",
    "    "
   ]
  }
 ],
 "metadata": {
  "kernelspec": {
   "display_name": "Python 3 (ipykernel)",
   "language": "python",
   "name": "python3"
  },
  "language_info": {
   "codemirror_mode": {
    "name": "ipython",
    "version": 3
   },
   "file_extension": ".py",
   "mimetype": "text/x-python",
   "name": "python",
   "nbconvert_exporter": "python",
   "pygments_lexer": "ipython3",
   "version": "3.9.13"
  }
 },
 "nbformat": 4,
 "nbformat_minor": 5
}
