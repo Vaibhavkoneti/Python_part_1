{
 "cells": [
  {
   "cell_type": "code",
   "execution_count": 5,
   "id": "d2618da8",
   "metadata": {},
   "outputs": [
    {
     "name": "stdout",
     "output_type": "stream",
     "text": [
      "goodbye ADAM\n"
     ]
    }
   ],
   "source": [
    "\"\"\"Inside the parenthesis variables can be used those variables as known as parameters of the function provides control inside the function example is here\n",
    "\n",
    "def hello(name):\n",
    "    print(f\"hello {name}\")\n",
    "Now you create a function named goodbye with a parameter name and say \"Good bye Adam\"\"\"\n",
    "\n",
    "def goodbye(name):\n",
    "    print(f\"Goodbye {name}\")\n",
    "goodbye(\"ADAM\")\n",
    "    "
   ]
  },
  {
   "cell_type": "code",
   "execution_count": null,
   "id": "d8a5dd6f",
   "metadata": {},
   "outputs": [],
   "source": []
  }
 ],
 "metadata": {
  "kernelspec": {
   "display_name": "Python 3 (ipykernel)",
   "language": "python",
   "name": "python3"
  },
  "language_info": {
   "codemirror_mode": {
    "name": "ipython",
    "version": 3
   },
   "file_extension": ".py",
   "mimetype": "text/x-python",
   "name": "python",
   "nbconvert_exporter": "python",
   "pygments_lexer": "ipython3",
   "version": "3.9.13"
  }
 },
 "nbformat": 4,
 "nbformat_minor": 5
}
