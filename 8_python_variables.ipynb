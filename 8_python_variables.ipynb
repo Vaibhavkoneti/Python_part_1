{
 "cells": [
  {
   "cell_type": "code",
   "execution_count": 9,
   "id": "3e7f7948",
   "metadata": {},
   "outputs": [
    {
     "name": "stdout",
     "output_type": "stream",
     "text": [
      "19\n",
      "4_string_4.56\n"
     ]
    }
   ],
   "source": [
    "#Q_8:Create 3 different variables and assign 3 different values. Write only one operation. Print them on terminal\n",
    "a,b,c=4,6,9\n",
    "print(a+b+c)\n",
    "\n",
    "#or\n",
    "\n",
    "a,b,c = 4,'string',4.56\n",
    "print(str(a)+\"_\" + b + \"_\" +str(c))"
   ]
  },
  {
   "cell_type": "code",
   "execution_count": null,
   "id": "6bfe623a",
   "metadata": {},
   "outputs": [],
   "source": []
  }
 ],
 "metadata": {
  "kernelspec": {
   "display_name": "Python 3 (ipykernel)",
   "language": "python",
   "name": "python3"
  },
  "language_info": {
   "codemirror_mode": {
    "name": "ipython",
    "version": 3
   },
   "file_extension": ".py",
   "mimetype": "text/x-python",
   "name": "python",
   "nbconvert_exporter": "python",
   "pygments_lexer": "ipython3",
   "version": "3.9.13"
  }
 },
 "nbformat": 4,
 "nbformat_minor": 5
}
