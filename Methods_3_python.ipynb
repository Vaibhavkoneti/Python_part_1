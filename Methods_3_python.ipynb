{
 "cells": [
  {
   "cell_type": "code",
   "execution_count": 31,
   "id": "d8545fdd",
   "metadata": {},
   "outputs": [
    {
     "name": "stdout",
     "output_type": "stream",
     "text": [
      "13\n",
      "2\n",
      "233\n",
      "True\n",
      "True\n",
      "01122334455666\n",
      "01122\n",
      "334455666\n",
      "55666\n"
     ]
    }
   ],
   "source": [
    "\"\"\"to convert a number to string we can use str() function this is called casting\n",
    "\n",
    "cast num1 to string and assign to num1_str\n",
    "check the length of the string\n",
    "get the third element of string (the one in the 3rd order)\n",
    "get the 3-5 elements of string (both inclusive) by string slicing\n",
    "check if num2 in string (cast if necessary)\n",
    "check if num3 in string (cast if necessary)\n",
    "concatenate 0 to the string from left and assign to string_with_0\n",
    "get the characters of string_with_0 from start to position 4 (end point exclusive)\n",
    "get the characters of string_with_0 from position 5 until the end\n",
    "use negative indexing to reach the \"567\" string_with_0\"\"\"\n",
    "\n",
    "num1 = 1122334455666\n",
    "#cast num1 to string and assign to num1_str\n",
    "num1_str1 = str(num1)\n",
    "num1_str1 \n",
    "#check the length of the string\n",
    "print(len(num1_str1 ))\n",
    "\n",
    "#get the third element of string (the one in the 3rd order)\n",
    "print(num1_str1[2])\n",
    "\n",
    "#get the 3-5 elements of string (both inclusive) by string slicing\n",
    "print(num1_str1[3:6])\n",
    "\n",
    "#check if num2 in string (cast if necessary)\n",
    "print(str(2) in num1_str1)\n",
    "\n",
    "#check if num3 in string (cast if necessary)\n",
    "print(str(3) in num1_str1)\n",
    "\n",
    "#concatenate 0 to the string from left and assign to string_with_0\n",
    "\n",
    "string_with_0 = str(0) + num1_str1\n",
    "print(string_with_0 )\n",
    "\n",
    "#get the characters of string_with_0 from start to position 4 (end point exclusive)\n",
    "print(string_with_0[:5])\n",
    "\n",
    "#get the characters of string_with_0 from position 5 until the end\n",
    "print(string_with_0[5:])\n",
    "\n",
    "#use negative indexing to reach the \"567\" string_with_0\n",
    "print(string_with_0[-5:])\n"
   ]
  }
 ],
 "metadata": {
  "kernelspec": {
   "display_name": "Python 3 (ipykernel)",
   "language": "python",
   "name": "python3"
  },
  "language_info": {
   "codemirror_mode": {
    "name": "ipython",
    "version": 3
   },
   "file_extension": ".py",
   "mimetype": "text/x-python",
   "name": "python",
   "nbconvert_exporter": "python",
   "pygments_lexer": "ipython3",
   "version": "3.9.13"
  }
 },
 "nbformat": 4,
 "nbformat_minor": 5
}
