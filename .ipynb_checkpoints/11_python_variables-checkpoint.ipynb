{
 "cells": [
  {
   "cell_type": "code",
   "execution_count": 20,
   "id": "e34a608c",
   "metadata": {},
   "outputs": [
    {
     "name": "stdout",
     "output_type": "stream",
     "text": [
      "Hello laura Hew are yeu ['How', 'old', 'are', 'you', '?']\n"
     ]
    }
   ],
   "source": [
    "\"\"\"\"Q_11 : Modify the variables as suggested\n",
    "a = 'hello' #capitalize\n",
    "b = 'tom' #uppercase\n",
    "c = 'LAURA' #lowercase\n",
    "question = 'How are you' #change o in e\n",
    "age_question = 'How old are you?' #use the correct method to create a string for each word\n",
    "print(a, b, c, question, age_question)\"\"\"\n",
    "\n",
    "a= 'hello'.capitalize()\n",
    "b = 'LAURA'.lower()\n",
    "Question = 'How are you'.replace('o','e')\n",
    "age_question='How old are you ?'.split(\" \")\n",
    "print(a,b,Question,age_question)\n",
    "\n",
    "\n",
    "\n"
   ]
  }
 ],
 "metadata": {
  "kernelspec": {
   "display_name": "Python 3 (ipykernel)",
   "language": "python",
   "name": "python3"
  },
  "language_info": {
   "codemirror_mode": {
    "name": "ipython",
    "version": 3
   },
   "file_extension": ".py",
   "mimetype": "text/x-python",
   "name": "python",
   "nbconvert_exporter": "python",
   "pygments_lexer": "ipython3",
   "version": "3.9.13"
  }
 },
 "nbformat": 4,
 "nbformat_minor": 5
}
