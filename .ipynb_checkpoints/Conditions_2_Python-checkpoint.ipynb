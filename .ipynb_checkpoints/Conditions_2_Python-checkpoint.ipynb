{
 "cells": [
  {
   "cell_type": "code",
   "execution_count": 1,
   "id": "5d0553b3",
   "metadata": {},
   "outputs": [
    {
     "name": "stdout",
     "output_type": "stream",
     "text": [
      "66 equals to 66\n"
     ]
    }
   ],
   "source": [
    "\"\"\"check if number1 is greater than number 2 and print number1 is\n",
    "greater than number2 then check and if number 2 is greater than number 1 \n",
    "and print number2 is greater than number1 finally at the end if both conditions incorrect print number2 equals to number1\n",
    "number1 = 66 number2 = 66\"\"\"\n",
    "\n",
    "number1 = 66\n",
    "number2 = 66\n",
    "\n",
    "if number1>number2:\n",
    "    print(f\"{number1} is greater than {number2}\")\n",
    "elif number2 > number1:\n",
    "    print(f\"{number2} is greater than {number1}\")    \n",
    "else:\n",
    "    print(f\"{number1} equals to {number2}\")"
   ]
  }
 ],
 "metadata": {
  "kernelspec": {
   "display_name": "Python 3 (ipykernel)",
   "language": "python",
   "name": "python3"
  },
  "language_info": {
   "codemirror_mode": {
    "name": "ipython",
    "version": 3
   },
   "file_extension": ".py",
   "mimetype": "text/x-python",
   "name": "python",
   "nbconvert_exporter": "python",
   "pygments_lexer": "ipython3",
   "version": "3.9.13"
  }
 },
 "nbformat": 4,
 "nbformat_minor": 5
}
