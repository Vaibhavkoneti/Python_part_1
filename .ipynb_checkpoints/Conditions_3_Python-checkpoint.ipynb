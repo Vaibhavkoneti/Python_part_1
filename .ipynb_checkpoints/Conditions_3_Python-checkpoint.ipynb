{
 "cells": [
  {
   "cell_type": "code",
   "execution_count": 63,
   "id": "bed62d2d",
   "metadata": {},
   "outputs": [
    {
     "name": "stdout",
     "output_type": "stream",
     "text": [
      "93 is greater than 7\n"
     ]
    }
   ],
   "source": [
    "\"\"\"Q_3:Compare those 2 numbers and write X greater than Y But be sure you are making the check for all the conditions\"\"\"\n",
    "\n",
    "import random\n",
    "\n",
    "number1 = random.randint(1,100)\n",
    "number2 = random.randint(1,100)\n",
    "\n",
    "if number1 > number2:\n",
    "    if number1 == number2:\n",
    "        print(f\"{number1} is equal than {number2}\")\n",
    "    elif number2>number1:\n",
    "        print(f\"{number2} is greater than {number1}\")\n",
    "    else:\n",
    "        print(f\"{number1} is greater than {number2}\")\n",
    "else:\n",
    "    print(\"Resend the values as number1 greater than number2\")\n",
    "        "
   ]
  }
 ],
 "metadata": {
  "kernelspec": {
   "display_name": "Python 3 (ipykernel)",
   "language": "python",
   "name": "python3"
  },
  "language_info": {
   "codemirror_mode": {
    "name": "ipython",
    "version": 3
   },
   "file_extension": ".py",
   "mimetype": "text/x-python",
   "name": "python",
   "nbconvert_exporter": "python",
   "pygments_lexer": "ipython3",
   "version": "3.9.13"
  }
 },
 "nbformat": 4,
 "nbformat_minor": 5
}
