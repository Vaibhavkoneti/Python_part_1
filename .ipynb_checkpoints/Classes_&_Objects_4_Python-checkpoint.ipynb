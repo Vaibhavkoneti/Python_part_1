{
 "cells": [
  {
   "cell_type": "code",
   "execution_count": 16,
   "id": "3f5e13d6",
   "metadata": {},
   "outputs": [
    {
     "name": "stdout",
     "output_type": "stream",
     "text": [
      "Co-Co\n",
      "woof woof\n",
      "count of legs : 4\n"
     ]
    }
   ],
   "source": [
    "\"\"\"Let's inherit Dog class from Animal add name(private) attribute \n",
    "to Dog class and then bark method to print woof woof\n",
    "print name_of_dog make it bark count the legs\"\"\"\n",
    "\n",
    "class Animal:\n",
    "    def __init__(self,legs):\n",
    "        self._legs = legs\n",
    "    def run(self):\n",
    "        print(\"running started\")\n",
    "    def count_of_legs(self):\n",
    "        print(self._legs)\n",
    "    def return_legs(self):\n",
    "        return self._legs\n",
    "    \n",
    "class Dog(Animal):\n",
    "    def __init__(self,legs,name):\n",
    "        super().__init__(legs)\n",
    "        self._name = name\n",
    "    def bark(self):\n",
    "            print(\"woof woof\")\n",
    "        \n",
    "animal = Dog(4,\"Co-Co\")\n",
    "print(animal._name)\n",
    "animal.bark()\n",
    "print(f\"count of legs : {animal._legs}\")\n"
   ]
  }
 ],
 "metadata": {
  "kernelspec": {
   "display_name": "Python 3 (ipykernel)",
   "language": "python",
   "name": "python3"
  },
  "language_info": {
   "codemirror_mode": {
    "name": "ipython",
    "version": 3
   },
   "file_extension": ".py",
   "mimetype": "text/x-python",
   "name": "python",
   "nbconvert_exporter": "python",
   "pygments_lexer": "ipython3",
   "version": "3.9.13"
  }
 },
 "nbformat": 4,
 "nbformat_minor": 5
}
