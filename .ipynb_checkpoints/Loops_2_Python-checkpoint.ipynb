{
 "cells": [
  {
   "cell_type": "code",
   "execution_count": 20,
   "id": "a87981a4",
   "metadata": {},
   "outputs": [
    {
     "name": "stdout",
     "output_type": "stream",
     "text": [
      "exercise1 was done before coffee break\n",
      "exercise2 was done before coffee break\n",
      "exercise3 was done before coffee break\n",
      "It's time for coffee break \n"
     ]
    }
   ],
   "source": [
    "\"\"\"Check if it is time for coffee break if it is just break\n",
    "To do that lets iterate through given list don't change the COFFEE BREAK statement.\n",
    "just find another way to do it\"\"\"\n",
    "\n",
    "todo = [\"exercise1\", \"exercise2\", \"exercise3\",\"coffee break\" ,\"exercise4\",\"exercise5\",\"exercise6\"]\n",
    "for x in todo:\n",
    "    if x.upper() == \"COFFEE BREAK\":\n",
    "        print(f\"It's time for {x} \")\n",
    "        break\n",
    "    else:\n",
    "        print(f\"{x} was done before coffee break\")"
   ]
  }
 ],
 "metadata": {
  "kernelspec": {
   "display_name": "Python 3 (ipykernel)",
   "language": "python",
   "name": "python3"
  },
  "language_info": {
   "codemirror_mode": {
    "name": "ipython",
    "version": 3
   },
   "file_extension": ".py",
   "mimetype": "text/x-python",
   "name": "python",
   "nbconvert_exporter": "python",
   "pygments_lexer": "ipython3",
   "version": "3.9.13"
  }
 },
 "nbformat": 4,
 "nbformat_minor": 5
}
