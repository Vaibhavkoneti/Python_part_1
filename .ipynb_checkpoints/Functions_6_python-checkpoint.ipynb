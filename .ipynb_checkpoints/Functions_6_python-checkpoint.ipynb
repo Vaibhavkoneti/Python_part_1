{
 "cells": [
  {
   "cell_type": "code",
   "execution_count": null,
   "id": "1e96e4b1",
   "metadata": {},
   "outputs": [
    {
     "name": "stdout",
     "output_type": "stream",
     "text": [
      "enter value to find fibonacci series : 3\n",
      "enter value to find fibonacci series : 7\n",
      "[1, 1, 3, 6, 10, 15]\n"
     ]
    }
   ],
   "source": [
    "#Implement Fibonacci sequence as recursive function and print first 5 elements.\n",
    "def rec_fun(n):\n",
    "    list_1=[]\n",
    "    if n<=1:\n",
    "        return 1\n",
    "    else:\n",
    "        list_1.append(n)\n",
    "        return n + rec_fun(n-1)\n",
    "list_1=[] \n",
    "while True:\n",
    "    list_len = int(input(\"enter value to find fibonacci series : \"))\n",
    "    if list_len > 5:\n",
    "        for i in range(list_len):\n",
    "            list_1.append(rec_fun(i))\n",
    "        print(list_1[:6])"
   ]
  }
 ],
 "metadata": {
  "kernelspec": {
   "display_name": "Python 3 (ipykernel)",
   "language": "python",
   "name": "python3"
  },
  "language_info": {
   "codemirror_mode": {
    "name": "ipython",
    "version": 3
   },
   "file_extension": ".py",
   "mimetype": "text/x-python",
   "name": "python",
   "nbconvert_exporter": "python",
   "pygments_lexer": "ipython3",
   "version": "3.9.13"
  }
 },
 "nbformat": 4,
 "nbformat_minor": 5
}
