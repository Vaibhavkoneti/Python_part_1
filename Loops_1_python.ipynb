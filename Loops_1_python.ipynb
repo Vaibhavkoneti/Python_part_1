{
 "cells": [
  {
   "cell_type": "code",
   "execution_count": 12,
   "id": "29f41e71",
   "metadata": {},
   "outputs": [
    {
     "name": "stdout",
     "output_type": "stream",
     "text": [
      "*\n",
      "***\n",
      "*****\n"
     ]
    }
   ],
   "source": [
    "\"\"\"Create\n",
    "\n",
    "*\n",
    "***\n",
    "*****\n",
    "this shape with print, for loop, if and continue statements\"\"\"\n",
    "\n",
    "for i in range(1,6):\n",
    "    if i%2==0:\n",
    "        continue\n",
    "    else:\n",
    "        print('*' * i)\n",
    " "
   ]
  }
 ],
 "metadata": {
  "kernelspec": {
   "display_name": "Python 3 (ipykernel)",
   "language": "python",
   "name": "python3"
  },
  "language_info": {
   "codemirror_mode": {
    "name": "ipython",
    "version": 3
   },
   "file_extension": ".py",
   "mimetype": "text/x-python",
   "name": "python",
   "nbconvert_exporter": "python",
   "pygments_lexer": "ipython3",
   "version": "3.9.13"
  }
 },
 "nbformat": 4,
 "nbformat_minor": 5
}
