{
 "cells": [
  {
   "cell_type": "code",
   "execution_count": 3,
   "id": "50989d4d",
   "metadata": {},
   "outputs": [
    {
     "name": "stdout",
     "output_type": "stream",
     "text": [
      "100 is greater than 8\n"
     ]
    }
   ],
   "source": [
    "\"\"\"Compare those 2 numbers' absolute values and write X's absolute value \n",
    "greater than Y's absolute value Use abs function to do that\n",
    "eg.\n",
    "abs(-5) -> 5\n",
    "abs function makes all numbers positive\"\"\"\n",
    "\n",
    "import random\n",
    "\n",
    "number1 = random.randint(-100,100)\n",
    "number2 = random.randint(-100,100)\n",
    "\n",
    "if abs(number1) > abs(number2):\n",
    "    print(f\"{abs(number1)} is greater than {abs(number2)}\")"
   ]
  }
 ],
 "metadata": {
  "kernelspec": {
   "display_name": "Python 3 (ipykernel)",
   "language": "python",
   "name": "python3"
  },
  "language_info": {
   "codemirror_mode": {
    "name": "ipython",
    "version": 3
   },
   "file_extension": ".py",
   "mimetype": "text/x-python",
   "name": "python",
   "nbconvert_exporter": "python",
   "pygments_lexer": "ipython3",
   "version": "3.9.13"
  }
 },
 "nbformat": 4,
 "nbformat_minor": 5
}
