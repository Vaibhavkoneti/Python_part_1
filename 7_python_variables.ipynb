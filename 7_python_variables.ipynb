{
 "cells": [
  {
   "cell_type": "code",
   "execution_count": 2,
   "id": "6dee11c3",
   "metadata": {},
   "outputs": [
    {
     "name": "stdout",
     "output_type": "stream",
     "text": [
      "Hello I'am, Mario \n",
      "Hello I'am, Mario\n"
     ]
    }
   ],
   "source": [
    "#Q_7:Write single quotes or double quotes correctly\n",
    "single_quote = 'Hello I\\'am, Mario '\n",
    "print(single_quote)\n",
    "double_quote = \"Hello I\\'am, Mario\"\n",
    "print(double_quote)\n"
   ]
  }
 ],
 "metadata": {
  "kernelspec": {
   "display_name": "Python 3 (ipykernel)",
   "language": "python",
   "name": "python3"
  },
  "language_info": {
   "codemirror_mode": {
    "name": "ipython",
    "version": 3
   },
   "file_extension": ".py",
   "mimetype": "text/x-python",
   "name": "python",
   "nbconvert_exporter": "python",
   "pygments_lexer": "ipython3",
   "version": "3.9.13"
  }
 },
 "nbformat": 4,
 "nbformat_minor": 5
}
