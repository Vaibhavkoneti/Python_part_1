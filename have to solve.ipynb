{
 "cells": [
  {
   "cell_type": "code",
   "execution_count": null,
   "id": "1d7bec59",
   "metadata": {},
   "outputs": [],
   "source": [
    "\"\"\"import random\n",
    "list_length = int(input(f\"Enter length of list : \"))\n",
    "list_1 = []\n",
    "for i in range(0,list_length):\n",
    "    n = random.randrange(-100,100)\n",
    "    list_1.append(n)\n",
    "print(list_1)\"\"\"\n",
    "\n",
    "default_num = 15\n",
    "while True:\n",
    "    for i in range(0,random.randint(0,5)):\n",
    "        n = random.randrange(-100,100)\n",
    "        list_1.append(n)\n",
    "    if default_num in list_1: \n",
    "        print(list_1)\n",
    "    else:\n",
    "        list_1.clear()\n",
    "    \n",
    "    "
   ]
  }
 ],
 "metadata": {
  "kernelspec": {
   "display_name": "Python 3 (ipykernel)",
   "language": "python",
   "name": "python3"
  },
  "language_info": {
   "codemirror_mode": {
    "name": "ipython",
    "version": 3
   },
   "file_extension": ".py",
   "mimetype": "text/x-python",
   "name": "python",
   "nbconvert_exporter": "python",
   "pygments_lexer": "ipython3",
   "version": "3.9.13"
  }
 },
 "nbformat": 4,
 "nbformat_minor": 5
}
