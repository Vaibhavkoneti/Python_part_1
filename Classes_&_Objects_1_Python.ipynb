{
 "cells": [
  {
   "cell_type": "code",
   "execution_count": 7,
   "id": "5d1bb9ef",
   "metadata": {},
   "outputs": [
    {
     "name": "stdout",
     "output_type": "stream",
     "text": [
      "Animal object was created\n",
      "running started\n"
     ]
    }
   ],
   "source": [
    "\"\"\"Let's create Animal class and then create the animal object that runs and having 4 legs\n",
    "create animal object with leg count when created print \n",
    "\"Animal object was created\" and then call runs method of it and it prints \"Running started\"\"\"\n",
    "\n",
    "class Animal:\n",
    "    def __init__(self,legs):\n",
    "        self.legs = legs\n",
    "    def run(self):\n",
    "        print(\"running started\")\n",
    "        \n",
    "animal = Animal(4)\n",
    "print(\"Animal object was created\")\n",
    "animal.run()\n"
   ]
  },
  {
   "cell_type": "code",
   "execution_count": null,
   "id": "00b3b797",
   "metadata": {},
   "outputs": [],
   "source": []
  }
 ],
 "metadata": {
  "kernelspec": {
   "display_name": "Python 3 (ipykernel)",
   "language": "python",
   "name": "python3"
  },
  "language_info": {
   "codemirror_mode": {
    "name": "ipython",
    "version": 3
   },
   "file_extension": ".py",
   "mimetype": "text/x-python",
   "name": "python",
   "nbconvert_exporter": "python",
   "pygments_lexer": "ipython3",
   "version": "3.9.13"
  }
 },
 "nbformat": 4,
 "nbformat_minor": 5
}
