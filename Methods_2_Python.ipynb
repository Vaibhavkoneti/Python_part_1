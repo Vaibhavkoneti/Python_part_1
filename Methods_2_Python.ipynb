{
 "cells": [
  {
   "cell_type": "code",
   "execution_count": 10,
   "id": "bcf8e62e",
   "metadata": {},
   "outputs": [
    {
     "name": "stdout",
     "output_type": "stream",
     "text": [
      "value : 1.3 and data type is <class 'float'>\n",
      "value : 2 and data type is <class 'int'>\n",
      "value : 1j and data type is <class 'complex'>\n",
      "value : 1 and data type is <class 'int'>\n",
      "value : 2 and data type is <class 'int'>\n"
     ]
    }
   ],
   "source": [
    "\"\"\"Q_2: the number types can be converted to each other wit the int() float() complex() \n",
    "methods also float numbers can be rounded with the method round()\n",
    "\n",
    "convert num1 to float and assign to itself\n",
    "convert num2 to int and assign to itself\n",
    "convert num3 to complex and assign to itself\n",
    "use round method for num4 and assign to itself\n",
    "use round method for num5 and assign to itself\n",
    "print them all\n",
    "print their types\"\"\"\n",
    "\n",
    "num1 = 1.3\n",
    "num2 = 2.3\n",
    "num3 = 1j \n",
    "num4 = 1.4 \n",
    "num5 = 1.5\n",
    "\n",
    "#convert num1 to float and assign to itself\n",
    "num1 = float(num1)\n",
    "print(\"value : \" + str(num1) + \" and data type is \" + str(type(num1)) )\n",
    "\n",
    "#convert num2 to int and assign to itself\n",
    "num2= int(num2)\n",
    "print(\"value : \" + str(num2) + \" and data type is \" + str(type(num2)) )\n",
    "\n",
    "#convert num3 to complex and assign to itself\n",
    "num3 = complex(num3)\n",
    "print(\"value : \" + str(num3) + \" and data type is \" + str(type(num3)) )\n",
    "\n",
    "#use round method for num4 and assign to itself\n",
    "num4 = round(num4)\n",
    "print(\"value : \" + str(num4) + \" and data type is \" + str(type(num4)) )\n",
    "\n",
    "#use round method for num5 and assign to itself\n",
    "num5 = round(num5)\n",
    "print(\"value : \" + str(num5) + \" and data type is \" + str(type(num5)) )"
   ]
  }
 ],
 "metadata": {
  "kernelspec": {
   "display_name": "Python 3 (ipykernel)",
   "language": "python",
   "name": "python3"
  },
  "language_info": {
   "codemirror_mode": {
    "name": "ipython",
    "version": 3
   },
   "file_extension": ".py",
   "mimetype": "text/x-python",
   "name": "python",
   "nbconvert_exporter": "python",
   "pygments_lexer": "ipython3",
   "version": "3.9.13"
  }
 },
 "nbformat": 4,
 "nbformat_minor": 5
}
