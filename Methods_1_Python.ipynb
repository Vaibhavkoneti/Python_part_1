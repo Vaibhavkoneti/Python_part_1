{
 "cells": [
  {
   "cell_type": "code",
   "execution_count": 1,
   "id": "b3fd9c29",
   "metadata": {},
   "outputs": [
    {
     "name": "stdout",
     "output_type": "stream",
     "text": [
      "<class 'str'>\n",
      "<class 'bool'>\n",
      "<class 'bool'>\n",
      "<class 'int'>\n",
      "<class 'float'>\n",
      "<class 'complex'>\n",
      "<class 'complex'>\n",
      "<class 'list'>\n",
      "<class 'tuple'>\n",
      "<class 'dict'>\n",
      "<class 'set'>\n"
     ]
    }
   ],
   "source": [
    "\"\"\"Q_1 : With type command you can see the type of a variable in python eg: \n",
    "type(1) print each components type with this way you can see most significant data types in python\"\"\"\n",
    "\n",
    "print(type(\"Hello World\"))\n",
    "print(type(True))\n",
    "print(type(False))\n",
    "print(type(33))\n",
    "print(type(24.5))\n",
    "print(type(4+1j))\n",
    "print(type(4j))\n",
    "print(type([\"lion\", \"monkey\", \"dog\",\"fish\"]))\n",
    "print(type((\"lion\", \"monkey\", \"dog\",\"fish\")))\n",
    "print(type({\"name\" : \"John\", \"surname\" : \"Doe\", \"age\":22}))\n",
    "print(type({\"lion\", \"monkey\", \"dog\",\"fish\"}))"
   ]
  }
 ],
 "metadata": {
  "kernelspec": {
   "display_name": "Python 3 (ipykernel)",
   "language": "python",
   "name": "python3"
  },
  "language_info": {
   "codemirror_mode": {
    "name": "ipython",
    "version": 3
   },
   "file_extension": ".py",
   "mimetype": "text/x-python",
   "name": "python",
   "nbconvert_exporter": "python",
   "pygments_lexer": "ipython3",
   "version": "3.9.13"
  }
 },
 "nbformat": 4,
 "nbformat_minor": 5
}
