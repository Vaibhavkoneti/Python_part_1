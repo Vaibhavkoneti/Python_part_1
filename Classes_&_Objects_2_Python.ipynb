{
 "cells": [
  {
   "cell_type": "code",
   "execution_count": 7,
   "id": "08858f4b",
   "metadata": {},
   "outputs": [
    {
     "name": "stdout",
     "output_type": "stream",
     "text": [
      "Animal object was created\n",
      "running started\n",
      "4\n",
      "4\n"
     ]
    },
    {
     "data": {
      "text/plain": [
       "4"
      ]
     },
     "execution_count": 7,
     "metadata": {},
     "output_type": "execute_result"
    }
   ],
   "source": [
    "\"\"\"\n",
    "Now continue with the Animal class we had used before\n",
    "\n",
    "Add a method to count the legs count_legs which prints the number of legs\n",
    "\n",
    "Add a method to count the legs return_legs which returns the number of legs\n",
    "\n",
    "print number of legs directly from number_of_legs variable of the object\"\"\"\n",
    "\n",
    "\n",
    "class Animal:\n",
    "    def __init__(self,legs):\n",
    "        self.legs = legs\n",
    "    def run(self):\n",
    "        print(\"running started\")\n",
    "    def count_of_legs(self):\n",
    "        print(self.legs)\n",
    "    def return_legs(self):\n",
    "        return self.legs\n",
    "          \n",
    "animal = Animal(4)\n",
    "print(\"Animal object was created\")\n",
    "animal.run()\n",
    "animal.count_of_legs()\n",
    "print(animal.legs)\n",
    "animal.return_legs()"
   ]
  },
  {
   "cell_type": "code",
   "execution_count": null,
   "id": "0e757768",
   "metadata": {},
   "outputs": [],
   "source": []
  }
 ],
 "metadata": {
  "kernelspec": {
   "display_name": "Python 3 (ipykernel)",
   "language": "python",
   "name": "python3"
  },
  "language_info": {
   "codemirror_mode": {
    "name": "ipython",
    "version": 3
   },
   "file_extension": ".py",
   "mimetype": "text/x-python",
   "name": "python",
   "nbconvert_exporter": "python",
   "pygments_lexer": "ipython3",
   "version": "3.9.13"
  }
 },
 "nbformat": 4,
 "nbformat_minor": 5
}
