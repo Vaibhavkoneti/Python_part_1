{
 "cells": [
  {
   "cell_type": "code",
   "execution_count": 3,
   "id": "043c00c5",
   "metadata": {},
   "outputs": [
    {
     "name": "stdout",
     "output_type": "stream",
     "text": [
      "enter length of range : 5\n",
      "[0, 4, 16]\n"
     ]
    }
   ],
   "source": [
    "\"\"\"reate a lambda function that returns 2nd power of given number if its even\n",
    "and run it on the given list\n",
    "then print the result to the screen\"\"\"\n",
    "length_list = int(input(\"enter length of range : \"))\n",
    "my_list= list(map(lambda x : x**2 ,range(length_list)))\n",
    "final_list = []\n",
    "for i in range(length_list):\n",
    "    if i % 2 == 0:\n",
    "        final_list.append(my_list[i])\n",
    "print(final_list)\n",
    "        "
   ]
  },
  {
   "cell_type": "code",
   "execution_count": null,
   "id": "71046214",
   "metadata": {},
   "outputs": [
    {
     "name": "stdout",
     "output_type": "stream",
     "text": [
      "enter length of range : 5\n",
      "[1, 4, 16]\n",
      "enter length of range : 9\n",
      "[1, 4, 16, 64, 256]\n"
     ]
    }
   ],
   "source": [
    "while True:\n",
    "    len_list = int(input(\"enter length of range : \"))\n",
    "    my_list= list(map(lambda x : 2**x ,range(len_list)))\n",
    "    fin_list=[my_list[i] for i in range(len_list) if (i%2)==0]\n",
    "    print(fin_list)\n",
    "    \n",
    "    "
   ]
  }
 ],
 "metadata": {
  "kernelspec": {
   "display_name": "Python 3 (ipykernel)",
   "language": "python",
   "name": "python3"
  },
  "language_info": {
   "codemirror_mode": {
    "name": "ipython",
    "version": 3
   },
   "file_extension": ".py",
   "mimetype": "text/x-python",
   "name": "python",
   "nbconvert_exporter": "python",
   "pygments_lexer": "ipython3",
   "version": "3.9.13"
  }
 },
 "nbformat": 4,
 "nbformat_minor": 5
}
