{
 "cells": [
  {
   "cell_type": "code",
   "execution_count": 5,
   "id": "cf0fb084",
   "metadata": {},
   "outputs": [
    {
     "name": "stdout",
     "output_type": "stream",
     "text": [
      "hello john Doe!\n",
      "hello Tristram Mcbride!\n",
      "hello Baldwin Preston!\n",
      "hello Wally collins!\n"
     ]
    }
   ],
   "source": [
    "\"\"\"Now create a function for John Doe and his family that greets every one in the family.\n",
    "Since it will usually John Doe the name and surname parameter must be defaulted\n",
    "and when someone else comes it has to greet the new comer with name surname parameters which were overwritten. Make it possible.\n",
    "The function have to print \"Hello John Doe\" where John and Doe is parametric\n",
    "Greet each our John first then the people in the list with for loop and the function\n",
    "What you have to use\n",
    "\n",
    "for loop\n",
    "function\n",
    "string operation\n",
    "list index\n",
    "Output format\n",
    "\n",
    "Hello John Doe!\n",
    "Hello Tristram Mcbride!\n",
    "Hello Baldwin Preston!\n",
    "Hello Wally Collins!\"\"\"\n",
    "\n",
    "John_fam = [\"john Doe\",\"Tristram Mcbride\",\"Baldwin Preston\",\"Wally collins\"]\n",
    "def greet(*arg):\n",
    "    for i in John_fam:\n",
    "        print(f\"hello {i}!\")\n",
    "\n",
    "greet(John_fam)\n",
    "    \n",
    "\n"
   ]
  }
 ],
 "metadata": {
  "kernelspec": {
   "display_name": "Python 3 (ipykernel)",
   "language": "python",
   "name": "python3"
  },
  "language_info": {
   "codemirror_mode": {
    "name": "ipython",
    "version": 3
   },
   "file_extension": ".py",
   "mimetype": "text/x-python",
   "name": "python",
   "nbconvert_exporter": "python",
   "pygments_lexer": "ipython3",
   "version": "3.9.13"
  }
 },
 "nbformat": 4,
 "nbformat_minor": 5
}
