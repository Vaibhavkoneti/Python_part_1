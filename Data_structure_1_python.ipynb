{
 "cells": [
  {
   "cell_type": "code",
   "execution_count": 33,
   "id": "fc67373b",
   "metadata": {},
   "outputs": [
    {
     "name": "stdout",
     "output_type": "stream",
     "text": [
      "length of list : 4 , length of tuple1 : 4,length of set1 : 4 , length of dict1 : 4 \n",
      "first element of list1 : lion , first elemet of tuple1 : lion\n",
      "value of lion key : 4\n",
      "update 2nd element : ['lion', 'Rabbit', 'dog', 'fish']\n",
      "<class 'TypeError'>\n",
      "(\"'tuple' object does not support item assignment\",)\n",
      "added element : ['lion', 'Rabbit', 'dog', 'fish', 'monkey']\n",
      "removed element : ['lion', 'dog', 'fish', 'monkey']\n",
      "updated fish element : {'lion': 4, 'monkey': 2, 'dog': 4, 'fish': 0}\n"
     ]
    }
   ],
   "source": [
    "\"\"\"Remember list,set,dictionary are mutable and tuple is immutable list,tuple elements can be reached by index\n",
    "for dictionary it is not an option to reach by index the element key has to be known to reach\n",
    "and for set the items cannot be reached directly but it is possible to iterate.\n",
    "\n",
    "print the lengths of list1,tuple1,set1,dict1\n",
    "print the first element of list1 and tuple1\n",
    "print the value of lion key of dict1\n",
    "change the 2nd position element of list1 to \"rabbit\"\n",
    "try to change the 2nd position element of the tuple to \"rabbit\" and explain what happened.\n",
    "add \"monkey\" to list1\n",
    "remove \"rabbit\" from list1\n",
    "in dict1 the number of feet is written as value to each animal the fixh has wrong value just fix it.\"\"\"\n",
    "list1 = [\"lion\", \"monkey\", \"dog\",\"fish\"]\n",
    "tuple1 = (\"lion\", \"monkey\", \"dog\",\"fish\")\n",
    "set1 = {\"lion\", \"monkey\", \"dog\",\"fish\"}\n",
    "dict1 = {\"lion\":4, \"monkey\":2, \"dog\":4,\"fish\":2}\n",
    "\n",
    "#print the lengths of list1,tuple1,set1,dict1\n",
    "print(f\"length of list : {len(list1)} , length of tuple1 : {len(tuple1)},length of set1 : {len(set1)} , length of dict1 : {len(dict1)} \")\n",
    "\n",
    "#print the first element of list1 and tuple1\n",
    "print(f\"first element of list1 : {list1[0]} , first elemet of tuple1 : {tuple1[0]}\")\n",
    "\n",
    "#print the value of lion key of dict1\n",
    "print(\"value of lion key : \" + str(dict1[\"lion\"]))\n",
    "\n",
    "#change the 2nd position element of list1 to \"rabbit\"\n",
    "list1[1] = 'Rabbit'\n",
    "print(f\"update 2nd element : {list1}\")\n",
    "\n",
    "#try to change the 2nd position element of the tuple to \"rabbit\" and explain what happened.\n",
    "try:\n",
    "    tuple1[1] = 'tabbit' \n",
    "    print(f\"update 2nd element : {tuple1}\")\n",
    "except Exception as e:\n",
    "    print(type(e))\n",
    "    print(e.args)\n",
    "#add \"monkey\" to list1\n",
    "list1.append(\"monkey\")\n",
    "print(f\"added element : {list1}\")\n",
    "#remove \"rabbit\" from list1\n",
    "list1.remove(\"Rabbit\")\n",
    "print(f\"removed element : {list1}\")\n",
    "#in dict1 the number of feet is written as value to each animal the fixh has wrong value just fix it.\"\"\"\n",
    "dict1[\"fish\"] = 0\n",
    "print(f\"updated fish element : {dict1}\")\n",
    "\n",
    "\n",
    "\n"
   ]
  },
  {
   "cell_type": "code",
   "execution_count": null,
   "id": "66ff5799",
   "metadata": {},
   "outputs": [],
   "source": []
  }
 ],
 "metadata": {
  "kernelspec": {
   "display_name": "Python 3 (ipykernel)",
   "language": "python",
   "name": "python3"
  },
  "language_info": {
   "codemirror_mode": {
    "name": "ipython",
    "version": 3
   },
   "file_extension": ".py",
   "mimetype": "text/x-python",
   "name": "python",
   "nbconvert_exporter": "python",
   "pygments_lexer": "ipython3",
   "version": "3.9.13"
  }
 },
 "nbformat": 4,
 "nbformat_minor": 5
}
