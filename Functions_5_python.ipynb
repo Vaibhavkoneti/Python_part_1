{
 "cells": [
  {
   "cell_type": "code",
   "execution_count": 1,
   "id": "f38fc5f0",
   "metadata": {},
   "outputs": [
    {
     "name": "stdout",
     "output_type": "stream",
     "text": [
      "Enter length of list : 4\n",
      "[-97, -81, 46, 13]\n",
      "[-97, -81, 46, 13, 15]\n",
      "-104\n"
     ]
    }
   ],
   "source": [
    "\"\"\"Import random function\n",
    "Create a function random_list_summer creates n elemented list with min value = -100 max value = 100 it has to print the list first and sum all the elements of it default element number is 15\n",
    "Don't forget to call the function\n",
    "for some features and functions you might have to search on the internet do it don't lose your courage\"\"\"\n",
    "\n",
    "import random\n",
    "list_length = int(input(f\"Enter length of list : \"))\n",
    "random_list = random.sample(range(-100,100),list_length)\n",
    "print(random_list)\n",
    "\n",
    "def  random_list_summer(*arg,default_num = 15):\n",
    "    print(random_list + [default_num])\n",
    "    print(sum(random_list) + default_num)\n",
    "    \n",
    "random_list_summer(random_list)\n",
    "\n",
    "\n",
    "\n"
   ]
  }
 ],
 "metadata": {
  "kernelspec": {
   "display_name": "Python 3 (ipykernel)",
   "language": "python",
   "name": "python3"
  },
  "language_info": {
   "codemirror_mode": {
    "name": "ipython",
    "version": 3
   },
   "file_extension": ".py",
   "mimetype": "text/x-python",
   "name": "python",
   "nbconvert_exporter": "python",
   "pygments_lexer": "ipython3",
   "version": "3.9.13"
  }
 },
 "nbformat": 4,
 "nbformat_minor": 5
}
