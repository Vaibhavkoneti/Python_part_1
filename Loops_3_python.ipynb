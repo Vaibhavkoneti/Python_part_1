{
 "cells": [
  {
   "cell_type": "code",
   "execution_count": 60,
   "id": "148ce81b",
   "metadata": {},
   "outputs": [
    {
     "name": "stdout",
     "output_type": "stream",
     "text": [
      "for list____________________________________________________\n",
      "lion\n",
      "monkey\n",
      "dog\n",
      "fish\n",
      "for tuple____________________________________________________\n",
      "lion\n",
      "monkey\n",
      "dog\n",
      "fish\n",
      "for set ___________________________________________________\n",
      "monkey\n",
      "lion\n",
      "dog\n",
      "fish\n",
      "for dict\n",
      "lion land\n",
      "monkey land\n",
      "dog land\n"
     ]
    }
   ],
   "source": [
    "\"\"\"Iterate each elements of list1,tuple1,set1 and print them out\n",
    "For the dict1 iterate all elements but only print the ones who are\n",
    "living on land in the form of x lives in y\"\"\"\n",
    "list1 = [\"lion\", \"monkey\", \"dog\",\"fish\"]\n",
    "tuple1 = (\"lion\", \"monkey\", \"dog\",\"fish\")\n",
    "set1 = {\"lion\", \"monkey\", \"dog\",\"fish\"}\n",
    "dict1 = {\"lion\":\"land\", \"monkey\":\"land\", \"dog\":\"land\",\"fish\":\"water\"}\n",
    "print(\"for list____________________________________________________\")\n",
    "for i in range(len(list1)) : print(list1[i])\n",
    "print(\"for tuple____________________________________________________\")\n",
    "for i in range(len(tuple1)) : print(tuple1[i])\n",
    "print(\"for set ___________________________________________________\")\n",
    "for i in set1 : print(i)\n",
    "print(\"for dict\")\n",
    "for i,j in dict1.items():\n",
    "    if j == \"land\":\n",
    "      print(i,j)\n"
   ]
  }
 ],
 "metadata": {
  "kernelspec": {
   "display_name": "Python 3 (ipykernel)",
   "language": "python",
   "name": "python3"
  },
  "language_info": {
   "codemirror_mode": {
    "name": "ipython",
    "version": 3
   },
   "file_extension": ".py",
   "mimetype": "text/x-python",
   "name": "python",
   "nbconvert_exporter": "python",
   "pygments_lexer": "ipython3",
   "version": "3.9.13"
  }
 },
 "nbformat": 4,
 "nbformat_minor": 5
}
