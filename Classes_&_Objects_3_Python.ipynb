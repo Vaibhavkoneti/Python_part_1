{
 "cells": [
  {
   "cell_type": "code",
   "execution_count": 3,
   "id": "30aa58ba",
   "metadata": {},
   "outputs": [
    {
     "name": "stdout",
     "output_type": "stream",
     "text": [
      "Animal object was created\n",
      "running started\n",
      "4\n",
      "4\n"
     ]
    },
    {
     "data": {
      "text/plain": [
       "4"
      ]
     },
     "execution_count": 3,
     "metadata": {},
     "output_type": "execute_result"
    }
   ],
   "source": [
    "\"\"\"Again let's keep talking on Animal class we have.\n",
    "with 3 methods we just reached the number of legs\n",
    "to prevent direct interacting with the class variables\n",
    "most of the other programming languages have encapsulation.\n",
    "But in python we don't have it instead we use _ prefix for it as convention\n",
    "it is also same for the methods\n",
    "\n",
    "_legs this shows us not to touch this variable its up to you if you want to change it you can but _ asks you politely not to do it.\n",
    "\n",
    "Change the number_of_legs to conventional private variable and call from another method\"\"\"\n",
    "\n",
    "class Animal:\n",
    "    def __init__(self,legs):\n",
    "        self._legs = legs\n",
    "    def run(self):\n",
    "        print(\"running started\")\n",
    "    def count_of_legs(self):\n",
    "        print(self._legs)\n",
    "    def return_legs(self):\n",
    "        return self._legs\n",
    "          \n",
    "animal = Animal(4)\n",
    "print(\"Animal object was created\")\n",
    "animal.run()\n",
    "animal.count_of_legs()\n",
    "print(animal._legs)\n",
    "animal.return_legs()"
   ]
  }
 ],
 "metadata": {
  "kernelspec": {
   "display_name": "Python 3 (ipykernel)",
   "language": "python",
   "name": "python3"
  },
  "language_info": {
   "codemirror_mode": {
    "name": "ipython",
    "version": 3
   },
   "file_extension": ".py",
   "mimetype": "text/x-python",
   "name": "python",
   "nbconvert_exporter": "python",
   "pygments_lexer": "ipython3",
   "version": "3.9.13"
  }
 },
 "nbformat": 4,
 "nbformat_minor": 5
}
