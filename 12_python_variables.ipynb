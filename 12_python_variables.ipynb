{
 "cells": [
  {
   "cell_type": "code",
   "execution_count": 3,
   "id": "a239f272",
   "metadata": {},
   "outputs": [
    {
     "name": "stdout",
     "output_type": "stream",
     "text": [
      "Vaibhav Koneti : 25\n"
     ]
    }
   ],
   "source": [
    "\"\"\"Create two variables called name and age. \n",
    "Then create a variable called hello and print the name and the age. \n",
    "Use the formatted string literal.\"\"\"\n",
    "\n",
    "name = 'Vaibhav Koneti'\n",
    "age = 25\n",
    "hello = print(name +\" : \" +str(age))"
   ]
  }
 ],
 "metadata": {
  "kernelspec": {
   "display_name": "Python 3 (ipykernel)",
   "language": "python",
   "name": "python3"
  },
  "language_info": {
   "codemirror_mode": {
    "name": "ipython",
    "version": 3
   },
   "file_extension": ".py",
   "mimetype": "text/x-python",
   "name": "python",
   "nbconvert_exporter": "python",
   "pygments_lexer": "ipython3",
   "version": "3.9.13"
  }
 },
 "nbformat": 4,
 "nbformat_minor": 5
}
